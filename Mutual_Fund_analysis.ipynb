{
 "cells": [
  {
   "cell_type": "markdown",
   "id": "b2d2ea4c",
   "metadata": {},
   "source": [
    "## Data Loading"
   ]
  },
  {
   "cell_type": "code",
   "execution_count": 14,
   "id": "229ca1b4",
   "metadata": {},
   "outputs": [
    {
     "data": {
      "text/html": [
       "<div>\n",
       "<style scoped>\n",
       "    .dataframe tbody tr th:only-of-type {\n",
       "        vertical-align: middle;\n",
       "    }\n",
       "\n",
       "    .dataframe tbody tr th {\n",
       "        vertical-align: top;\n",
       "    }\n",
       "\n",
       "    .dataframe thead th {\n",
       "        text-align: right;\n",
       "    }\n",
       "</style>\n",
       "<table border=\"1\" class=\"dataframe\">\n",
       "  <thead>\n",
       "    <tr style=\"text-align: right;\">\n",
       "      <th></th>\n",
       "      <th>scheme_name</th>\n",
       "      <th>min_sip</th>\n",
       "      <th>min_lumpsum</th>\n",
       "      <th>expense_ratio</th>\n",
       "      <th>fund_size_cr</th>\n",
       "      <th>fund_age_yr</th>\n",
       "      <th>fund_manager</th>\n",
       "      <th>sortino</th>\n",
       "      <th>alpha</th>\n",
       "      <th>sd</th>\n",
       "      <th>...</th>\n",
       "      <th>risk_level</th>\n",
       "      <th>amc_name</th>\n",
       "      <th>rating</th>\n",
       "      <th>category</th>\n",
       "      <th>sub_category</th>\n",
       "      <th>returns_1yr</th>\n",
       "      <th>returns_3yr</th>\n",
       "      <th>returns_5yr</th>\n",
       "      <th>composite_score</th>\n",
       "      <th>rank</th>\n",
       "    </tr>\n",
       "  </thead>\n",
       "  <tbody>\n",
       "    <tr>\n",
       "      <th>0</th>\n",
       "      <td>Quant Small Cap Fund</td>\n",
       "      <td>1000</td>\n",
       "      <td>5000</td>\n",
       "      <td>0.64</td>\n",
       "      <td>3301</td>\n",
       "      <td>10</td>\n",
       "      <td>Sanjeev Sharma</td>\n",
       "      <td>3.71</td>\n",
       "      <td>19.16</td>\n",
       "      <td>24.75</td>\n",
       "      <td>...</td>\n",
       "      <td>6</td>\n",
       "      <td>Quant Mutual Fund</td>\n",
       "      <td>5</td>\n",
       "      <td>Equity</td>\n",
       "      <td>Small Cap Mutual Funds</td>\n",
       "      <td>5.4</td>\n",
       "      <td>71.4</td>\n",
       "      <td>23.2</td>\n",
       "      <td>0.667338</td>\n",
       "      <td>1</td>\n",
       "    </tr>\n",
       "    <tr>\n",
       "      <th>1</th>\n",
       "      <td>Quant Infrastructure Fund</td>\n",
       "      <td>1000</td>\n",
       "      <td>5000</td>\n",
       "      <td>0.64</td>\n",
       "      <td>822</td>\n",
       "      <td>10</td>\n",
       "      <td>Vasav Sahgal</td>\n",
       "      <td>3.44</td>\n",
       "      <td>27.24</td>\n",
       "      <td>19.24</td>\n",
       "      <td>...</td>\n",
       "      <td>6</td>\n",
       "      <td>Quant Mutual Fund</td>\n",
       "      <td>5</td>\n",
       "      <td>Equity</td>\n",
       "      <td>Sectoral / Thematic Mutual Funds</td>\n",
       "      <td>5.6</td>\n",
       "      <td>61.5</td>\n",
       "      <td>21.1</td>\n",
       "      <td>0.657207</td>\n",
       "      <td>2</td>\n",
       "    </tr>\n",
       "    <tr>\n",
       "      <th>2</th>\n",
       "      <td>Quant Tax Plan- Direct Growth</td>\n",
       "      <td>500</td>\n",
       "      <td>500</td>\n",
       "      <td>0.57</td>\n",
       "      <td>2779</td>\n",
       "      <td>10</td>\n",
       "      <td>Vasav Sahgal</td>\n",
       "      <td>3.50</td>\n",
       "      <td>17.63</td>\n",
       "      <td>19.74</td>\n",
       "      <td>...</td>\n",
       "      <td>6</td>\n",
       "      <td>Quant Mutual Fund</td>\n",
       "      <td>5</td>\n",
       "      <td>Equity</td>\n",
       "      <td>ELSS Mutual Funds</td>\n",
       "      <td>0.9</td>\n",
       "      <td>54.9</td>\n",
       "      <td>22.2</td>\n",
       "      <td>0.619385</td>\n",
       "      <td>3</td>\n",
       "    </tr>\n",
       "    <tr>\n",
       "      <th>3</th>\n",
       "      <td>Quant Multi Asset Fund</td>\n",
       "      <td>1000</td>\n",
       "      <td>5000</td>\n",
       "      <td>0.56</td>\n",
       "      <td>634</td>\n",
       "      <td>10</td>\n",
       "      <td>Vasav Sahgal</td>\n",
       "      <td>3.23</td>\n",
       "      <td>19.52</td>\n",
       "      <td>18.63</td>\n",
       "      <td>...</td>\n",
       "      <td>6</td>\n",
       "      <td>Quant Mutual Fund</td>\n",
       "      <td>5</td>\n",
       "      <td>Hybrid</td>\n",
       "      <td>Multi Asset Allocation Mutual Funds</td>\n",
       "      <td>10.6</td>\n",
       "      <td>42.6</td>\n",
       "      <td>20.5</td>\n",
       "      <td>0.590916</td>\n",
       "      <td>4</td>\n",
       "    </tr>\n",
       "    <tr>\n",
       "      <th>4</th>\n",
       "      <td>Quant Flexi Cap Fund</td>\n",
       "      <td>1000</td>\n",
       "      <td>5000</td>\n",
       "      <td>0.58</td>\n",
       "      <td>1044</td>\n",
       "      <td>10</td>\n",
       "      <td>Vasav Sahgal</td>\n",
       "      <td>3.65</td>\n",
       "      <td>15.93</td>\n",
       "      <td>19.16</td>\n",
       "      <td>...</td>\n",
       "      <td>6</td>\n",
       "      <td>Quant Mutual Fund</td>\n",
       "      <td>5</td>\n",
       "      <td>Equity</td>\n",
       "      <td>Flexi Cap Funds</td>\n",
       "      <td>6.8</td>\n",
       "      <td>47.7</td>\n",
       "      <td>18.2</td>\n",
       "      <td>0.581508</td>\n",
       "      <td>5</td>\n",
       "    </tr>\n",
       "  </tbody>\n",
       "</table>\n",
       "<p>5 rows × 22 columns</p>\n",
       "</div>"
      ],
      "text/plain": [
       "                     scheme_name  min_sip  min_lumpsum  expense_ratio  \\\n",
       "0           Quant Small Cap Fund     1000         5000           0.64   \n",
       "1      Quant Infrastructure Fund     1000         5000           0.64   \n",
       "2  Quant Tax Plan- Direct Growth      500          500           0.57   \n",
       "3         Quant Multi Asset Fund     1000         5000           0.56   \n",
       "4           Quant Flexi Cap Fund     1000         5000           0.58   \n",
       "\n",
       "   fund_size_cr  fund_age_yr    fund_manager  sortino  alpha     sd  ...  \\\n",
       "0          3301           10  Sanjeev Sharma     3.71  19.16  24.75  ...   \n",
       "1           822           10    Vasav Sahgal     3.44  27.24  19.24  ...   \n",
       "2          2779           10    Vasav Sahgal     3.50  17.63  19.74  ...   \n",
       "3           634           10    Vasav Sahgal     3.23  19.52  18.63  ...   \n",
       "4          1044           10    Vasav Sahgal     3.65  15.93  19.16  ...   \n",
       "\n",
       "   risk_level           amc_name  rating category  \\\n",
       "0           6  Quant Mutual Fund       5   Equity   \n",
       "1           6  Quant Mutual Fund       5   Equity   \n",
       "2           6  Quant Mutual Fund       5   Equity   \n",
       "3           6  Quant Mutual Fund       5   Hybrid   \n",
       "4           6  Quant Mutual Fund       5   Equity   \n",
       "\n",
       "                          sub_category returns_1yr returns_3yr  returns_5yr  \\\n",
       "0               Small Cap Mutual Funds         5.4        71.4         23.2   \n",
       "1     Sectoral / Thematic Mutual Funds         5.6        61.5         21.1   \n",
       "2                    ELSS Mutual Funds         0.9        54.9         22.2   \n",
       "3  Multi Asset Allocation Mutual Funds        10.6        42.6         20.5   \n",
       "4                      Flexi Cap Funds         6.8        47.7         18.2   \n",
       "\n",
       "   composite_score  rank  \n",
       "0         0.667338     1  \n",
       "1         0.657207     2  \n",
       "2         0.619385     3  \n",
       "3         0.590916     4  \n",
       "4         0.581508     5  \n",
       "\n",
       "[5 rows x 22 columns]"
      ]
     },
     "execution_count": 14,
     "metadata": {},
     "output_type": "execute_result"
    }
   ],
   "source": [
    "import pandas as pd\n",
    "df = pd.read_csv('top_30_mutual_funds.csv',encoding='latin1')\n",
    "df.head()"
   ]
  },
  {
   "cell_type": "code",
   "execution_count": 15,
   "id": "732d427d",
   "metadata": {},
   "outputs": [
    {
     "name": "stdout",
     "output_type": "stream",
     "text": [
      "           min_sip  min_lumpsum  expense_ratio  fund_size_cr  fund_age_yr  \\\n",
      "count    30.000000    30.000000      30.000000     30.000000    30.000000   \n",
      "mean    626.666667  3923.333333       0.551333   6264.966667     8.733333   \n",
      "std     407.416870  1991.305815       0.246475   7518.172272     2.132399   \n",
      "min       0.000000     0.000000       0.080000     89.000000     4.000000   \n",
      "25%     150.000000  5000.000000       0.370000    971.750000     9.000000   \n",
      "50%     750.000000  5000.000000       0.580000   3300.500000    10.000000   \n",
      "75%    1000.000000  5000.000000       0.737500   8547.750000    10.000000   \n",
      "max    1000.000000  5000.000000       1.000000  29953.000000    10.000000   \n",
      "\n",
      "         sortino      alpha       beta     sharpe  risk_level     rating  \\\n",
      "count  30.000000  30.000000  30.000000  30.000000   30.000000  30.000000   \n",
      "mean    4.068667  11.373333   0.869333   1.945333    5.766667   3.433333   \n",
      "std     0.925965   5.019094   0.309013   0.199909    0.817200   2.028815   \n",
      "min     2.290000   5.290000   0.530000   1.370000    2.000000   0.000000   \n",
      "25%     3.597500   7.762500   0.750000   1.880000    6.000000   3.000000   \n",
      "50%     4.020000   9.940000   0.840000   1.945000    6.000000   4.000000   \n",
      "75%     4.405000  14.067500   0.917500   2.075000    6.000000   5.000000   \n",
      "max     7.270000  27.240000   2.360000   2.300000    6.000000   5.000000   \n",
      "\n",
      "       returns_1yr  returns_3yr  returns_5yr  composite_score       rank  \n",
      "count    30.000000    30.000000    30.000000        30.000000  30.000000  \n",
      "mean      7.263333    41.146667    16.315739         0.551269  15.500000  \n",
      "std       7.340369    10.866708     3.822083         0.039859   8.803408  \n",
      "min     -16.000000    14.500000     9.490726         0.510861   1.000000  \n",
      "25%       3.750000    35.425000    13.925000         0.524507   8.250000  \n",
      "50%       7.500000    42.200000    15.600000         0.541482  15.500000  \n",
      "75%      11.050000    45.000000    19.325000         0.569098  22.750000  \n",
      "max      23.200000    71.400000    23.200000         0.667338  30.000000  \n"
     ]
    }
   ],
   "source": [
    "print(df.describe())"
   ]
  },
  {
   "cell_type": "code",
   "execution_count": 16,
   "id": "e510071b",
   "metadata": {},
   "outputs": [
    {
     "data": {
      "text/plain": [
       "array(['Equity', 'Hybrid', 'Other', 'Debt', 'Solution Oriented'],\n",
       "      dtype=object)"
      ]
     },
     "execution_count": 16,
     "metadata": {},
     "output_type": "execute_result"
    }
   ],
   "source": [
    "df['category'].unique()"
   ]
  },
  {
   "cell_type": "code",
   "execution_count": 18,
   "id": "52eadd28",
   "metadata": {},
   "outputs": [
    {
     "data": {
      "text/plain": [
       "scheme_name        0\n",
       "min_sip            0\n",
       "min_lumpsum        0\n",
       "expense_ratio      0\n",
       "fund_size_cr       0\n",
       "fund_age_yr        0\n",
       "fund_manager       0\n",
       "sortino            0\n",
       "alpha              0\n",
       "sd                 0\n",
       "beta               0\n",
       "sharpe             0\n",
       "risk_level         0\n",
       "amc_name           0\n",
       "rating             0\n",
       "category           0\n",
       "sub_category       0\n",
       "returns_1yr        0\n",
       "returns_3yr        0\n",
       "returns_5yr        0\n",
       "composite_score    0\n",
       "rank               0\n",
       "dtype: int64"
      ]
     },
     "execution_count": 18,
     "metadata": {},
     "output_type": "execute_result"
    }
   ],
   "source": [
    "df.isnull().sum()"
   ]
  },
  {
   "cell_type": "markdown",
   "id": "0fd4d3d5",
   "metadata": {},
   "source": [
    "## Data Cleaning"
   ]
  },
  {
   "cell_type": "code",
   "execution_count": null,
   "id": "ec7d75d2",
   "metadata": {},
   "outputs": [
    {
     "name": "stdout",
     "output_type": "stream",
     "text": [
      "scheme_name        0\n",
      "min_sip            0\n",
      "min_lumpsum        0\n",
      "expense_ratio      0\n",
      "fund_size_cr       0\n",
      "fund_age_yr        0\n",
      "fund_manager       0\n",
      "sortino            0\n",
      "alpha              0\n",
      "sd                 0\n",
      "beta               0\n",
      "sharpe             0\n",
      "risk_level         0\n",
      "amc_name           0\n",
      "rating             0\n",
      "category           0\n",
      "sub_category       0\n",
      "returns_1yr        0\n",
      "returns_3yr        0\n",
      "returns_5yr        0\n",
      "composite_score    0\n",
      "rank               0\n",
      "dtype: int64\n"
     ]
    },
    {
     "name": "stderr",
     "output_type": "stream",
     "text": [
      "C:\\Users\\HARSH PANDAY\\AppData\\Local\\Temp\\ipykernel_39000\\2421392636.py:4: FutureWarning: A value is trying to be set on a copy of a DataFrame or Series through chained assignment using an inplace method.\n",
      "The behavior will change in pandas 3.0. This inplace method will never work because the intermediate object on which we are setting values always behaves as a copy.\n",
      "\n",
      "For example, when doing 'df[col].method(value, inplace=True)', try using 'df.method({col: value}, inplace=True)' or df[col] = df[col].method(value) instead, to perform the operation inplace on the original object.\n",
      "\n",
      "\n",
      "  df['returns_3yr'].fillna(mean_returns_3yr, inplace=True)\n",
      "C:\\Users\\HARSH PANDAY\\AppData\\Local\\Temp\\ipykernel_39000\\2421392636.py:5: FutureWarning: A value is trying to be set on a copy of a DataFrame or Series through chained assignment using an inplace method.\n",
      "The behavior will change in pandas 3.0. This inplace method will never work because the intermediate object on which we are setting values always behaves as a copy.\n",
      "\n",
      "For example, when doing 'df[col].method(value, inplace=True)', try using 'df.method({col: value}, inplace=True)' or df[col] = df[col].method(value) instead, to perform the operation inplace on the original object.\n",
      "\n",
      "\n",
      "  df['returns_5yr'].fillna(mean_returns_5yr, inplace=True)\n"
     ]
    }
   ],
   "source": [
    "# Data is already is clean but i have to show some cleaning process that why i show false cleaning for see the process\n",
    "# replace missing value in return_3yr and return_5yr\n",
    "mean_returns_3yr = df['returns_3yr'].mean()\n",
    "mean_returns_5yr = df['returns_5yr'].mean()\n",
    "df['returns_3yr'].fillna(mean_returns_3yr, inplace=True)\n",
    "df['returns_5yr'].fillna(mean_returns_5yr, inplace=True)\n",
    "print(df.isnull().sum())"
   ]
  },
  {
   "cell_type": "markdown",
   "id": "48ad19d3",
   "metadata": {},
   "source": [
    "## Data Normalisation"
   ]
  },
  {
   "cell_type": "code",
   "execution_count": 21,
   "id": "cad7997b",
   "metadata": {},
   "outputs": [],
   "source": [
    "from sklearn.preprocessing import MinMaxScaler\n",
    "\n",
    "columns_to_normalize = ['expense_ratio', 'returns_1yr', 'returns_3yr', 'returns_5yr', \n",
    "                        'sharpe', 'sortino', 'alpha', 'beta']\n",
    "df[columns_to_normalize] = df[columns_to_normalize].replace('-', pd.NA).apply(pd.to_numeric)\n",
    "\n",
    "scaler = MinMaxScaler()\n",
    "df_normalized = pd.DataFrame(scaler.fit_transform(df[columns_to_normalize]), columns=columns_to_normalize)\n",
    "\n",
    "# Adjust metrics where lower is better\n",
    "df_normalized['expense_ratio'] = 1 - df_normalized['expense_ratio']\n",
    "df_normalized['beta'] = 1 - df_normalized['beta']\n"
   ]
  },
  {
   "cell_type": "markdown",
   "id": "48b0e108",
   "metadata": {},
   "source": [
    "## Composite Scoring"
   ]
  },
  {
   "cell_type": "code",
   "execution_count": 22,
   "id": "e5b97500",
   "metadata": {},
   "outputs": [],
   "source": [
    "weights = {\n",
    "    'expense_ratio': 0.2,\n",
    "    'returns_1yr': 0.15,\n",
    "    'returns_3yr': 0.15,\n",
    "    'returns_5yr': 0.15,\n",
    "    'sharpe': 0.1,\n",
    "    'sortino': 0.1,\n",
    "    'alpha': 0.1,\n",
    "    'beta': 0.05\n",
    "}\n",
    "\n",
    "df_normalized['composite_score'] = sum(\n",
    "    df_normalized[col] * weight for col, weight in weights.items()\n",
    ")\n",
    "df['composite_score'] = df_normalized['composite_score']\n"
   ]
  },
  {
   "cell_type": "markdown",
   "id": "eb09796a",
   "metadata": {},
   "source": [
    "## Ranking Fund"
   ]
  },
  {
   "cell_type": "code",
   "execution_count": 23,
   "id": "d2410162",
   "metadata": {},
   "outputs": [],
   "source": [
    "df['rank'] = df['composite_score'].rank(ascending=False)\n",
    "df_sorted = df.sort_values(by='rank')"
   ]
  },
  {
   "cell_type": "markdown",
   "id": "e284b280",
   "metadata": {},
   "source": [
    "## Exporting Result"
   ]
  },
  {
   "cell_type": "code",
   "execution_count": 24,
   "id": "c52fed44",
   "metadata": {},
   "outputs": [
    {
     "name": "stdout",
     "output_type": "stream",
     "text": [
      "Exported top 30 mutual funds to 'top_30_mutual_funds.xlsx'.\n"
     ]
    }
   ],
   "source": [
    "df_top_30 = df_sorted.head(30)\n",
    "df_top_30.to_excel('top_30_mutual_funds.xlsx', index=False)\n",
    "print(\"Exported top 30 mutual funds to 'top_30_mutual_funds.xlsx'.\")"
   ]
  }
 ],
 "metadata": {
  "kernelspec": {
   "display_name": ".venv",
   "language": "python",
   "name": "python3"
  },
  "language_info": {
   "codemirror_mode": {
    "name": "ipython",
    "version": 3
   },
   "file_extension": ".py",
   "mimetype": "text/x-python",
   "name": "python",
   "nbconvert_exporter": "python",
   "pygments_lexer": "ipython3",
   "version": "3.10.10"
  }
 },
 "nbformat": 4,
 "nbformat_minor": 5
}
